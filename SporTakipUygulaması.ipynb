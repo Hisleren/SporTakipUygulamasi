{
 "cells": [
  {
   "cell_type": "code",
   "execution_count": 1,
   "id": "fb68f875-1020-4aed-b678-e37ae5ba870f",
   "metadata": {},
   "outputs": [],
   "source": [
    "from datetime import datetime\n",
    "sporhedef = 0\n",
    "suhedef = 0\n",
    "su = 0\n",
    "spor = 0\n",
    "class Uygulama():\n",
    "    def __init__(self, ad):\n",
    "        self.ad = ad\n",
    "        global suhedef\n",
    "        suhedef = int(input(\"Günde kaç bardak su içmeyi istiyorsunuz? \"))\n",
    "        global sporhedef\n",
    "        sporhedef = int(input(\"Günde kaç dakika çalışmak istiyorsunuz? \"))\n",
    "        print(\"Uygulamamıza başarıyla kayıt oldunuz.\")\n",
    "    def suİçtim(self,içilenMiktar):\n",
    "        global su\n",
    "        su = su\n",
    "        su2 = su + içilenMiktar\n",
    "        su3 = suhedef\n",
    "        su4 = su3 - su2\n",
    "        if su4 < 0 or su4 == 0:\n",
    "            print(\"Bugünlük içmen gereken su miktarını tamamladın. Unutma her şeyin fazlası zarar ;) \")\n",
    "        else:\n",
    "            print(f\"Bugün {su3} bardak su içmen gerekiyordu, {su2} bardak su içtin. {su4} bardak daha su içmen gerekiyor.\")\n",
    "        su = su + içilenMiktar\n",
    "        su4 = su3\n",
    "    def sporYaptım(self,yapılanSpor):\n",
    "        global spor\n",
    "        spor = spor\n",
    "        spor2 = spor + yapılanSpor\n",
    "        spor3 = sporhedef\n",
    "        spor4 = spor3 - spor2\n",
    "        if spor4 < 0 or spor4 == 0:\n",
    "            print(\"Bugünlük yapman gereken spor miktarını tamamladın. Unutma sağlam kafa sağlam vücutta bulunur ;) \")\n",
    "        else:\n",
    "            print(f\"Bugün {spor3} dakika spor yapman gerekiyordu, {spor2} dakika spor yaptın. {spor4} dakika daha spor yapman gerekiyor.\")\n",
    "        spor = spor + yapılanSpor\n",
    "        spor4 = spor3"
   ]
  },
  {
   "cell_type": "code",
   "execution_count": 2,
   "id": "9aaea529-a49d-44d3-ae71-5d16f0533cd4",
   "metadata": {},
   "outputs": [
    {
     "name": "stdin",
     "output_type": "stream",
     "text": [
      "Adınız nedir?  Ali\n",
      "Günde kaç bardak su içmeyi istiyorsunuz?  6\n",
      "Günde kaç dakika çalışmak istiyorsunuz?  75\n"
     ]
    },
    {
     "name": "stdout",
     "output_type": "stream",
     "text": [
      "Uygulamamıza başarıyla kayıt oldunuz.\n"
     ]
    }
   ],
   "source": [
    "Ad = input(\"Adınız nedir? \")\n",
    "Kullanıcı = Uygulama(Ad)"
   ]
  },
  {
   "cell_type": "code",
   "execution_count": 3,
   "id": "fd07789b-f173-4bd3-97b8-141a6040ad41",
   "metadata": {},
   "outputs": [
    {
     "data": {
      "text/plain": [
       "'Ali'"
      ]
     },
     "execution_count": 3,
     "metadata": {},
     "output_type": "execute_result"
    }
   ],
   "source": [
    "Kullanıcı.ad"
   ]
  },
  {
   "cell_type": "code",
   "execution_count": 4,
   "id": "c9ff43de-ac38-4b2b-b96f-dc2d83080843",
   "metadata": {},
   "outputs": [
    {
     "name": "stdout",
     "output_type": "stream",
     "text": [
      "Bugün 75 dakika spor yapman gerekiyordu, 15 dakika spor yaptın. 60 dakika daha spor yapman gerekiyor.\n"
     ]
    }
   ],
   "source": [
    "Kullanıcı.sporYaptım(15)"
   ]
  },
  {
   "cell_type": "code",
   "execution_count": 5,
   "id": "57cb6bcf-ffe3-43bc-9b2e-1e2e0224cfdc",
   "metadata": {},
   "outputs": [
    {
     "name": "stdout",
     "output_type": "stream",
     "text": [
      "Bugünlük yapman gereken spor miktarını tamamladın. Unutma sağlam kafa sağlam vücutta bulunur ;) \n"
     ]
    }
   ],
   "source": [
    "Kullanıcı.sporYaptım(60)"
   ]
  },
  {
   "cell_type": "code",
   "execution_count": 6,
   "id": "84213afa-d949-4651-91ed-e1ae82bd65b3",
   "metadata": {},
   "outputs": [
    {
     "name": "stdout",
     "output_type": "stream",
     "text": [
      "Bugün 6 bardak su içmen gerekiyordu, 1 bardak su içtin. 5 bardak daha su içmen gerekiyor.\n"
     ]
    }
   ],
   "source": [
    "Kullanıcı.suİçtim(1)"
   ]
  },
  {
   "cell_type": "code",
   "execution_count": 7,
   "id": "479b2f33-da56-450f-abd6-ce32e8bc69a2",
   "metadata": {},
   "outputs": [
    {
     "name": "stdout",
     "output_type": "stream",
     "text": [
      "Bugünlük içmen gereken su miktarını tamamladın. Unutma her şeyin fazlası zarar ;) \n"
     ]
    }
   ],
   "source": [
    "Kullanıcı.suİçtim(6)"
   ]
  },
  {
   "cell_type": "code",
   "execution_count": null,
   "id": "d4ec0d5c-95df-4c60-8b9d-abac5efc4b51",
   "metadata": {},
   "outputs": [],
   "source": []
  }
 ],
 "metadata": {
  "kernelspec": {
   "display_name": "Python [conda env:base] *",
   "language": "python",
   "name": "conda-base-py"
  },
  "language_info": {
   "codemirror_mode": {
    "name": "ipython",
    "version": 3
   },
   "file_extension": ".py",
   "mimetype": "text/x-python",
   "name": "python",
   "nbconvert_exporter": "python",
   "pygments_lexer": "ipython3",
   "version": "3.13.5"
  }
 },
 "nbformat": 4,
 "nbformat_minor": 5
}
